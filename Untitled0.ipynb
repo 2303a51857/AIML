{
  "nbformat": 4,
  "nbformat_minor": 0,
  "metadata": {
    "colab": {
      "provenance": [],
      "authorship_tag": "ABX9TyPrfdr4K1K56e9iijmEwa9q",
      "include_colab_link": true
    },
    "kernelspec": {
      "name": "python3",
      "display_name": "Python 3"
    },
    "language_info": {
      "name": "python"
    }
  },
  "cells": [
    {
      "cell_type": "markdown",
      "metadata": {
        "id": "view-in-github",
        "colab_type": "text"
      },
      "source": [
        "<a href=\"https://colab.research.google.com/github/2303a51857/AIML/blob/main/Untitled0.ipynb\" target=\"_parent\"><img src=\"https://colab.research.google.com/assets/colab-badge.svg\" alt=\"Open In Colab\"/></a>"
      ]
    },
    {
      "cell_type": "code",
      "execution_count": 12,
      "metadata": {
        "colab": {
          "base_uri": "https://localhost:8080/"
        },
        "id": "rgRaA6ysHsJz",
        "outputId": "ef147d92-78ea-4c33-a173-9c72894f4d7d"
      },
      "outputs": [
        {
          "output_type": "stream",
          "name": "stdout",
          "text": [
            "1.1\n",
            "[[1]\n",
            " [2]\n",
            " [3]\n",
            " [4]\n",
            " [5]]\n",
            "1.2\n",
            "[1 2 3 4 5]\n",
            "<class 'numpy.ndarray'>\n",
            "[ 4 10 18]\n",
            "[0.25 0.4  0.5 ]\n",
            "[  1  32 729]\n",
            "[5 7 9]\n",
            "[0.84147098 0.90929743 0.14112001]\n",
            "[0.         0.69314718 1.09861229]\n",
            "[ 2.71828183  7.3890561  20.08553692]\n",
            "[0.        1.        1.5849625]\n"
          ]
        }
      ],
      "source": [
        " #implementing lists using Numpy\n",
        "import numpy as np\n",
        "print(1.1)\n",
        "list=np.array([[1],[2],[3],[4],[5]])\n",
        "print(list)\n",
        "\n",
        "\n",
        "#implementing arrays using Numpy\n",
        "import numpy as np\n",
        "print(1.2)\n",
        "array=np.array([1,2,3,4,5])\n",
        "print(array)\n",
        "\n",
        "\n",
        "1.2\n",
        "[1, 2, 3, 4, 5]\n",
        "\n",
        "#Indentifing type using \"type\"()method\n",
        "import numpy as np\n",
        "arr =np.array([1,2,3,4,5,6,7])\n",
        "print(type(arr))\n",
        "\n",
        "#performing mathematical operations\n",
        "#1.multipilcation\n",
        "import numpy as np\n",
        "a=np.array([1,2,3])\n",
        "b=np.array([4,5,6])\n",
        "mul=np.multiply(a,b)\n",
        "print(mul)\n",
        "#2.division\n",
        "div=np.divide(a,b)\n",
        "print(div)\n",
        "#3,poweroff\n",
        "power=np.power(a,b)\n",
        "print(power)\n",
        "\n",
        "[ 4, 10, 18]\n",
        "[0.25, 0.4,  0.5 ]\n",
        "[  1,  32, 729]\n",
        "\n",
        "#Addition of two array\n",
        "import numpy as np\n",
        "array1=np.array([1,2,3])\n",
        "array2=np.array([4,5,6])\n",
        "r=array1+array2\n",
        "print(r)\n",
        "\n",
        "[5, 7, 9]\n",
        "\n",
        "#implement np.sin(), log(), np.exp(), log2()\n",
        "import numpy as np\n",
        "a = np.array([1,2,3])\n",
        "sin = np.sin(a)\n",
        "print(sin)\n",
        "log = np.log(a)\n",
        "print(log)\n",
        "exp = np.exp(a)\n",
        "print(exp)\n",
        "log2 = np.log2(a)\n",
        "print(log2)"
      ]
    }
  ]
}